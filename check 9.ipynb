{
 "cells": [
  {
   "cell_type": "markdown",
   "id": "7d4850b1",
   "metadata": {},
   "source": [
    "# 1 : "
   ]
  },
  {
   "cell_type": "code",
   "execution_count": 1,
   "id": "16d3d6f2",
   "metadata": {},
   "outputs": [
    {
     "name": "stdout",
     "output_type": "stream",
     "text": [
      "donner un nombre5\n",
      "TRUE\n"
     ]
    }
   ],
   "source": [
    "def binary_search(a) :\n",
    "    if k in a :\n",
    "        print(\"TRUE\")\n",
    "    else :\n",
    "        print (\"FALSE\")\n",
    "a=[1, 2, 3, 5, 8]\n",
    "k=int(input(\"donner un nombre\"))\n",
    "binary_search(a)"
   ]
  },
  {
   "cell_type": "code",
   "execution_count": 2,
   "id": "3005a80b",
   "metadata": {},
   "outputs": [
    {
     "name": "stdout",
     "output_type": "stream",
     "text": [
      "donner un nombre6\n",
      "FALSE\n"
     ]
    }
   ],
   "source": [
    "a=[1, 2, 3, 5, 8] \n",
    "k=int(input(\"donner un nombre\"))\n",
    "if k in a :\n",
    "    print(\"TRUE\")\n",
    "else :\n",
    "    print (\"FALSE\")"
   ]
  },
  {
   "cell_type": "markdown",
   "id": "2ff58c0b",
   "metadata": {},
   "source": [
    "# 2 :"
   ]
  },
  {
   "cell_type": "code",
   "execution_count": 4,
   "id": "1a54676a",
   "metadata": {},
   "outputs": [
    {
     "name": "stdout",
     "output_type": "stream",
     "text": [
      "donner un nombre3\n",
      "dooner un nombre4\n",
      "81\n"
     ]
    }
   ],
   "source": [
    "a=int(input(\"donner un nombre\"))\n",
    "b=int(input(\"dooner un nombre\"))\n",
    "print (a**b)"
   ]
  },
  {
   "cell_type": "code",
   "execution_count": 19,
   "id": "cbc26d0d",
   "metadata": {},
   "outputs": [
    {
     "name": "stdout",
     "output_type": "stream",
     "text": [
      "donnez un nombre SVP 3\n",
      "donnez un nombre SVP 4\n",
      "power( 3 , 4 )= 81\n"
     ]
    }
   ],
   "source": [
    "def power () :\n",
    "    x=a**b\n",
    "    return x\n",
    "a=int(input(\"donnez un nombre SVP \"))\n",
    "b=int(input(\"donnez un nombre SVP \"))\n",
    "print (\"power(\",a,\",\",b,\")=\",power())"
   ]
  },
  {
   "cell_type": "markdown",
   "id": "f99e54a6",
   "metadata": {},
   "source": [
    "# 3 :"
   ]
  },
  {
   "cell_type": "code",
   "execution_count": 6,
   "id": "55b9ff2b",
   "metadata": {},
   "outputs": [
    {
     "name": "stdout",
     "output_type": "stream",
     "text": [
      "[13, 22, 29, 37, 46, 49, 52, 56, 71]\n"
     ]
    }
   ],
   "source": [
    "def bubbleSort(l):\n",
    "    for j in range(len(l)-1,0,-1):\n",
    "        for i in range(j):\n",
    "            if l[i]>l[i+1]:\n",
    "                t = l[i]\n",
    "                l[i] = l[i+1]\n",
    "                l[i+1] = t\n",
    "    return l\n",
    "\n",
    "l =[29,13,22,37,52,49,46,71,56]\n",
    "print (bubbleSort(l))\n"
   ]
  },
  {
   "cell_type": "markdown",
   "id": "36027643",
   "metadata": {},
   "source": [
    "# 4 :"
   ]
  },
  {
   "cell_type": "code",
   "execution_count": 15,
   "id": "e080ff27",
   "metadata": {},
   "outputs": [
    {
     "name": "stdout",
     "output_type": "stream",
     "text": [
      "[13, 22, 29, 37, 46, 49, 52, 56, 71]\n"
     ]
    }
   ],
   "source": [
    "def mergeSort(l):\n",
    "    if len(l) > 1:\n",
    "        mid = len(l) // 2\n",
    "        left = l[:mid]\n",
    "        right = l[mid:]\n",
    "\n",
    "        mergeSort(left)\n",
    "        mergeSort(right)\n",
    "        \n",
    "        i = 0\n",
    "        j = 0\n",
    "        k = 0\n",
    "        \n",
    "        while i < len(left) and j < len(right):\n",
    "            if left[i] < right[j]:\n",
    "                l[k] = left[i]\n",
    "                i += 1\n",
    "            else:\n",
    "                l[k] = right[j]\n",
    "                j += 1\n",
    "            k += 1\n",
    "\n",
    "        while i < len(left):\n",
    "            l[k] = left[i]\n",
    "            i += 1\n",
    "            k += 1\n",
    "\n",
    "        while j < len(right):\n",
    "            l[k]=right[j]\n",
    "            j += 1\n",
    "            k += 1\n",
    "\n",
    "l = [29,13,22,37,52,49,46,71,56]\n",
    "mergeSort(l)\n",
    "print (l)"
   ]
  },
  {
   "cell_type": "markdown",
   "id": "624d6180",
   "metadata": {},
   "source": [
    "# 5 :"
   ]
  },
  {
   "cell_type": "code",
   "execution_count": 9,
   "id": "8fc2f1ad",
   "metadata": {},
   "outputs": [
    {
     "name": "stdout",
     "output_type": "stream",
     "text": [
      "[13, 22, 29, 37, 46, 49, 52, 56, 71]\n"
     ]
    }
   ],
   "source": [
    "l=[29,13,22,37,52,49,46,71,56]\n",
    "def sort(l):\n",
    "    less = []\n",
    "    equal = []\n",
    "    greater = []\n",
    "\n",
    "    if len(l) > 1:\n",
    "        pivot = l[0]\n",
    "        for x in l:\n",
    "            if x < pivot:\n",
    "                less.append(x)\n",
    "            elif x == pivot:\n",
    "                equal.append(x)\n",
    "            elif x > pivot:\n",
    "                greater.append(x)\n",
    "        return sort(less)+equal+sort(greater)  \n",
    "    else:\n",
    "        return l\n",
    "\n",
    "print(sort(l))"
   ]
  }
 ],
 "metadata": {
  "kernelspec": {
   "display_name": "Python 3",
   "language": "python",
   "name": "python3"
  },
  "language_info": {
   "codemirror_mode": {
    "name": "ipython",
    "version": 3
   },
   "file_extension": ".py",
   "mimetype": "text/x-python",
   "name": "python",
   "nbconvert_exporter": "python",
   "pygments_lexer": "ipython3",
   "version": "3.8.8"
  }
 },
 "nbformat": 4,
 "nbformat_minor": 5
}
